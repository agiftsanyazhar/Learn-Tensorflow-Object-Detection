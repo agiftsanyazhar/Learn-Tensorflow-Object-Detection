{
 "cells": [
  {
   "cell_type": "markdown",
   "metadata": {},
   "source": [
    "# 1. Import Dependencies"
   ]
  },
  {
   "cell_type": "code",
   "execution_count": 1,
   "metadata": {},
   "outputs": [],
   "source": [
    "# Import opencv\n",
    "import cv2\n",
    "\n",
    "# Import uuid\n",
    "import uuid\n",
    "\n",
    "# Import Operating System\n",
    "import os\n",
    "\n",
    "# Import time\n",
    "import time"
   ]
  },
  {
   "cell_type": "markdown",
   "metadata": {},
   "source": [
    "# 2. Define Images to Collect"
   ]
  },
  {
   "cell_type": "code",
   "execution_count": 2,
   "metadata": {},
   "outputs": [],
   "source": [
    "labels = [\"anorganik\", \"botol_kaca\", \"botol_plastik\"]\n",
    "number_imgs = 15"
   ]
  },
  {
   "cell_type": "markdown",
   "metadata": {},
   "source": [
    "# 3. Setup Folders "
   ]
  },
  {
   "cell_type": "code",
   "execution_count": 3,
   "metadata": {},
   "outputs": [],
   "source": [
    "IMAGES_PATH = os.path.join(\"Tensorflow\", \"workspace\", \"images\", \"collectedimages\")"
   ]
  },
  {
   "cell_type": "code",
   "execution_count": 4,
   "metadata": {},
   "outputs": [],
   "source": [
    "if not os.path.exists(IMAGES_PATH):\n",
    "    if os.name == 'posix':\n",
    "        !mkdir -p {IMAGES_PATH}\n",
    "    if os.name == 'nt':\n",
    "         !mkdir {IMAGES_PATH}\n",
    "for label in labels:\n",
    "    path = os.path.join(IMAGES_PATH, label)\n",
    "    if not os.path.exists(path):\n",
    "        !mkdir {path}"
   ]
  },
  {
   "cell_type": "markdown",
   "metadata": {},
   "source": [
    "# 4. Capture Images"
   ]
  },
  {
   "cell_type": "code",
   "execution_count": 18,
   "metadata": {},
   "outputs": [
    {
     "name": "stdout",
     "output_type": "stream",
     "text": [
      "Collecting images for thumbsup\n",
      "Collecting image 0\n",
      "Collecting image 1\n",
      "Collecting image 2\n",
      "Collecting image 3\n",
      "Collecting image 4\n"
     ]
    }
   ],
   "source": [
    "for label in labels:\n",
    "    cap = cv2.VideoCapture(0)\n",
    "    print(\"Collecting images for {}\".format(label))\n",
    "    time.sleep(5)\n",
    "    for imgnum in range(number_imgs):\n",
    "        print(\"Collecting image {}\".format(imgnum))\n",
    "        ret, frame = cap.read()\n",
    "        imgname = os.path.join(\n",
    "            IMAGES_PATH, label, label + \".\" + \"{}.jpg\".format(str(uuid.uuid1()))\n",
    "        )\n",
    "        cv2.imwrite(imgname, frame)\n",
    "        cv2.imshow(\"frame\", frame)\n",
    "        time.sleep(2)\n",
    "\n",
    "        if cv2.waitKey(1) & 0xFF == ord(\"q\"):\n",
    "            break\n",
    "cap.release()\n",
    "cv2.destroyAllWindows()"
   ]
  },
  {
   "cell_type": "markdown",
   "metadata": {},
   "source": [
    "# 5. Image Labelling"
   ]
  },
  {
   "cell_type": "code",
   "execution_count": 5,
   "metadata": {},
   "outputs": [
    {
     "name": "stdout",
     "output_type": "stream",
     "text": [
      "Collecting pyqt5\n",
      "  Using cached PyQt5-5.15.10-cp37-abi3-win_amd64.whl.metadata (2.2 kB)\n",
      "Collecting lxml\n",
      "  Using cached lxml-5.2.2-cp310-cp310-win_amd64.whl.metadata (3.5 kB)\n",
      "Collecting PyQt5-sip<13,>=12.13 (from pyqt5)\n",
      "  Using cached PyQt5_sip-12.13.0-cp310-cp310-win_amd64.whl.metadata (524 bytes)\n",
      "Collecting PyQt5-Qt5>=5.15.2 (from pyqt5)\n",
      "  Using cached PyQt5_Qt5-5.15.2-py3-none-win_amd64.whl.metadata (552 bytes)\n",
      "Using cached PyQt5-5.15.10-cp37-abi3-win_amd64.whl (6.8 MB)\n",
      "Using cached lxml-5.2.2-cp310-cp310-win_amd64.whl (3.8 MB)\n",
      "Using cached PyQt5_Qt5-5.15.2-py3-none-win_amd64.whl (50.1 MB)\n",
      "Using cached PyQt5_sip-12.13.0-cp310-cp310-win_amd64.whl (78 kB)\n",
      "Installing collected packages: PyQt5-Qt5, PyQt5-sip, lxml, pyqt5\n",
      "Successfully installed PyQt5-Qt5-5.15.2 PyQt5-sip-12.13.0 lxml-5.2.2 pyqt5-5.15.10\n"
     ]
    }
   ],
   "source": [
    "!pip install --upgrade pyqt5 lxml"
   ]
  },
  {
   "cell_type": "code",
   "execution_count": 6,
   "metadata": {},
   "outputs": [],
   "source": [
    "LABELIMG_PATH = os.path.join(\"Tensorflow\", \"labelimg\")"
   ]
  },
  {
   "cell_type": "code",
   "execution_count": 7,
   "metadata": {},
   "outputs": [
    {
     "name": "stderr",
     "output_type": "stream",
     "text": [
      "Cloning into 'Tensorflow\\labelimg'...\n"
     ]
    }
   ],
   "source": [
    "if not os.path.exists(LABELIMG_PATH):\n",
    "    !mkdir {LABELIMG_PATH}\n",
    "    !git clone https://github.com/tzutalin/labelImg {LABELIMG_PATH}"
   ]
  },
  {
   "cell_type": "code",
   "execution_count": 8,
   "metadata": {},
   "outputs": [],
   "source": [
    "if os.name == 'posix':\n",
    "    !make qt5py3\n",
    "if os.name =='nt':\n",
    "    !cd {LABELIMG_PATH} && pyrcc5 -o libs/resources.py resources.qrc"
   ]
  },
  {
   "cell_type": "code",
   "execution_count": 9,
   "metadata": {},
   "outputs": [
    {
     "name": "stdout",
     "output_type": "stream",
     "text": [
      "Image:F:\\Tutorial\\learn-tensorflow-object-detection\\Tensorflow\\workspace\\images\\collectedimages\\anorganik\\anorganik_0.jpg -> Annotation:F:/Tutorial/learn-tensorflow-object-detection/Tensorflow/workspace/images/collectedimages/anorganik\\anorganik_0.xml\n",
      "Image:F:\\Tutorial\\learn-tensorflow-object-detection\\Tensorflow\\workspace\\images\\collectedimages\\anorganik\\anorganik_1.jpg -> Annotation:F:/Tutorial/learn-tensorflow-object-detection/Tensorflow/workspace/images/collectedimages/anorganik\\anorganik_1.xml\n",
      "Image:F:\\Tutorial\\learn-tensorflow-object-detection\\Tensorflow\\workspace\\images\\collectedimages\\anorganik\\anorganik_2.jpg -> Annotation:F:/Tutorial/learn-tensorflow-object-detection/Tensorflow/workspace/images/collectedimages/anorganik\\anorganik_2.xml\n",
      "Image:F:\\Tutorial\\learn-tensorflow-object-detection\\Tensorflow\\workspace\\images\\collectedimages\\anorganik\\anorganik_3.jpg -> Annotation:F:/Tutorial/learn-tensorflow-object-detection/Tensorflow/workspace/images/collectedimages/anorganik\\anorganik_3.xml\n",
      "Image:F:\\Tutorial\\learn-tensorflow-object-detection\\Tensorflow\\workspace\\images\\collectedimages\\anorganik\\anorganik_4.jpg -> Annotation:F:/Tutorial/learn-tensorflow-object-detection/Tensorflow/workspace/images/collectedimages/anorganik\\anorganik_4.xml\n",
      "Image:F:\\Tutorial\\learn-tensorflow-object-detection\\Tensorflow\\workspace\\images\\collectedimages\\anorganik\\anorganik_5.jpg -> Annotation:F:/Tutorial/learn-tensorflow-object-detection/Tensorflow/workspace/images/collectedimages/anorganik\\anorganik_5.xml\n",
      "Image:F:\\Tutorial\\learn-tensorflow-object-detection\\Tensorflow\\workspace\\images\\collectedimages\\anorganik\\anorganik_6.jpg -> Annotation:F:/Tutorial/learn-tensorflow-object-detection/Tensorflow/workspace/images/collectedimages/anorganik\\anorganik_6.xml\n",
      "Image:F:\\Tutorial\\learn-tensorflow-object-detection\\Tensorflow\\workspace\\images\\collectedimages\\anorganik\\anorganik_7.jpg -> Annotation:F:/Tutorial/learn-tensorflow-object-detection/Tensorflow/workspace/images/collectedimages/anorganik\\anorganik_7.xml\n",
      "Image:F:\\Tutorial\\learn-tensorflow-object-detection\\Tensorflow\\workspace\\images\\collectedimages\\anorganik\\anorganik_8.jpg -> Annotation:F:/Tutorial/learn-tensorflow-object-detection/Tensorflow/workspace/images/collectedimages/anorganik\\anorganik_8.xml\n",
      "Image:F:\\Tutorial\\learn-tensorflow-object-detection\\Tensorflow\\workspace\\images\\collectedimages\\anorganik\\anorganik_9.jpg -> Annotation:F:/Tutorial/learn-tensorflow-object-detection/Tensorflow/workspace/images/collectedimages/anorganik\\anorganik_9.xml\n",
      "Image:F:\\Tutorial\\learn-tensorflow-object-detection\\Tensorflow\\workspace\\images\\collectedimages\\anorganik\\anorganik_10.jpg -> Annotation:F:/Tutorial/learn-tensorflow-object-detection/Tensorflow/workspace/images/collectedimages/anorganik\\anorganik_10.xml\n",
      "Image:F:\\Tutorial\\learn-tensorflow-object-detection\\Tensorflow\\workspace\\images\\collectedimages\\anorganik\\anorganik_11.jpg -> Annotation:F:/Tutorial/learn-tensorflow-object-detection/Tensorflow/workspace/images/collectedimages/anorganik\\anorganik_11.xml\n",
      "Image:F:\\Tutorial\\learn-tensorflow-object-detection\\Tensorflow\\workspace\\images\\collectedimages\\anorganik\\anorganik_12.jpg -> Annotation:F:/Tutorial/learn-tensorflow-object-detection/Tensorflow/workspace/images/collectedimages/anorganik\\anorganik_12.xml\n",
      "Image:F:\\Tutorial\\learn-tensorflow-object-detection\\Tensorflow\\workspace\\images\\collectedimages\\anorganik\\anorganik_13.jpg -> Annotation:F:/Tutorial/learn-tensorflow-object-detection/Tensorflow/workspace/images/collectedimages/anorganik\\anorganik_13.xml\n",
      "Image:F:\\Tutorial\\learn-tensorflow-object-detection\\Tensorflow\\workspace\\images\\collectedimages\\anorganik\\anorganik_14.jpg -> Annotation:F:/Tutorial/learn-tensorflow-object-detection/Tensorflow/workspace/images/collectedimages/anorganik\\anorganik_14.xml\n",
      "Image:F:\\Tutorial\\learn-tensorflow-object-detection\\Tensorflow\\workspace\\images\\collectedimages\\botol_kaca\\botol_kaca_0.jpg -> Annotation:F:/Tutorial/learn-tensorflow-object-detection/Tensorflow/workspace/images/collectedimages/botol_kaca\\botol_kaca_0.xml\n",
      "Image:F:\\Tutorial\\learn-tensorflow-object-detection\\Tensorflow\\workspace\\images\\collectedimages\\botol_kaca\\botol_kaca_1.jpg -> Annotation:F:/Tutorial/learn-tensorflow-object-detection/Tensorflow/workspace/images/collectedimages/botol_kaca\\botol_kaca_1.xml\n",
      "Image:F:\\Tutorial\\learn-tensorflow-object-detection\\Tensorflow\\workspace\\images\\collectedimages\\botol_kaca\\botol_kaca_2.jpg -> Annotation:F:/Tutorial/learn-tensorflow-object-detection/Tensorflow/workspace/images/collectedimages/botol_kaca\\botol_kaca_2.xml\n",
      "Image:F:\\Tutorial\\learn-tensorflow-object-detection\\Tensorflow\\workspace\\images\\collectedimages\\botol_kaca\\botol_kaca_3.jpg -> Annotation:F:/Tutorial/learn-tensorflow-object-detection/Tensorflow/workspace/images/collectedimages/botol_kaca\\botol_kaca_3.xml\n",
      "Image:F:\\Tutorial\\learn-tensorflow-object-detection\\Tensorflow\\workspace\\images\\collectedimages\\botol_kaca\\botol_kaca_4.jpg -> Annotation:F:/Tutorial/learn-tensorflow-object-detection/Tensorflow/workspace/images/collectedimages/botol_kaca\\botol_kaca_4.xml\n",
      "Image:F:\\Tutorial\\learn-tensorflow-object-detection\\Tensorflow\\workspace\\images\\collectedimages\\botol_kaca\\botol_kaca_5.jpg -> Annotation:F:/Tutorial/learn-tensorflow-object-detection/Tensorflow/workspace/images/collectedimages/botol_kaca\\botol_kaca_5.xml\n",
      "Image:F:\\Tutorial\\learn-tensorflow-object-detection\\Tensorflow\\workspace\\images\\collectedimages\\botol_kaca\\botol_kaca_6.jpg -> Annotation:F:/Tutorial/learn-tensorflow-object-detection/Tensorflow/workspace/images/collectedimages/botol_kaca\\botol_kaca_6.xml\n",
      "Image:F:\\Tutorial\\learn-tensorflow-object-detection\\Tensorflow\\workspace\\images\\collectedimages\\botol_kaca\\botol_kaca_7.jpg -> Annotation:F:/Tutorial/learn-tensorflow-object-detection/Tensorflow/workspace/images/collectedimages/botol_kaca\\botol_kaca_7.xml\n",
      "Image:F:\\Tutorial\\learn-tensorflow-object-detection\\Tensorflow\\workspace\\images\\collectedimages\\botol_kaca\\botol_kaca_8.jpg -> Annotation:F:/Tutorial/learn-tensorflow-object-detection/Tensorflow/workspace/images/collectedimages/botol_kaca\\botol_kaca_8.xml\n",
      "Image:F:\\Tutorial\\learn-tensorflow-object-detection\\Tensorflow\\workspace\\images\\collectedimages\\botol_kaca\\botol_kaca_9.jpg -> Annotation:F:/Tutorial/learn-tensorflow-object-detection/Tensorflow/workspace/images/collectedimages/botol_kaca\\botol_kaca_9.xml\n",
      "Image:F:\\Tutorial\\learn-tensorflow-object-detection\\Tensorflow\\workspace\\images\\collectedimages\\botol_kaca\\botol_kaca_10.jpg -> Annotation:F:/Tutorial/learn-tensorflow-object-detection/Tensorflow/workspace/images/collectedimages/botol_kaca\\botol_kaca_10.xml\n",
      "Image:F:\\Tutorial\\learn-tensorflow-object-detection\\Tensorflow\\workspace\\images\\collectedimages\\botol_kaca\\botol_kaca_11.jpg -> Annotation:F:/Tutorial/learn-tensorflow-object-detection/Tensorflow/workspace/images/collectedimages/botol_kaca\\botol_kaca_11.xml\n",
      "Image:F:\\Tutorial\\learn-tensorflow-object-detection\\Tensorflow\\workspace\\images\\collectedimages\\botol_kaca\\botol_kaca_12.jpg -> Annotation:F:/Tutorial/learn-tensorflow-object-detection/Tensorflow/workspace/images/collectedimages/botol_kaca\\botol_kaca_12.xml\n",
      "Image:F:\\Tutorial\\learn-tensorflow-object-detection\\Tensorflow\\workspace\\images\\collectedimages\\botol_kaca\\botol_kaca_13.jpg -> Annotation:F:/Tutorial/learn-tensorflow-object-detection/Tensorflow/workspace/images/collectedimages/botol_kaca\\botol_kaca_13.xml\n",
      "Image:F:\\Tutorial\\learn-tensorflow-object-detection\\Tensorflow\\workspace\\images\\collectedimages\\botol_kaca\\botol_kaca_14.jpg -> Annotation:F:/Tutorial/learn-tensorflow-object-detection/Tensorflow/workspace/images/collectedimages/botol_kaca\\botol_kaca_14.xml\n",
      "Image:F:\\Tutorial\\learn-tensorflow-object-detection\\Tensorflow\\workspace\\images\\collectedimages\\botol_plastik\\botol_plastik_0.jpg -> Annotation:F:/Tutorial/learn-tensorflow-object-detection/Tensorflow/workspace/images/collectedimages/botol_plastik\\botol_plastik_0.xml\n",
      "Image:F:\\Tutorial\\learn-tensorflow-object-detection\\Tensorflow\\workspace\\images\\collectedimages\\botol_plastik\\botol_plastik_1.jpg -> Annotation:F:/Tutorial/learn-tensorflow-object-detection/Tensorflow/workspace/images/collectedimages/botol_plastik\\botol_plastik_1.xml\n",
      "Image:F:\\Tutorial\\learn-tensorflow-object-detection\\Tensorflow\\workspace\\images\\collectedimages\\botol_plastik\\botol_plastik_2.jpg -> Annotation:F:/Tutorial/learn-tensorflow-object-detection/Tensorflow/workspace/images/collectedimages/botol_plastik\\botol_plastik_2.xml\n",
      "Image:F:\\Tutorial\\learn-tensorflow-object-detection\\Tensorflow\\workspace\\images\\collectedimages\\botol_plastik\\botol_plastik_3.jpg -> Annotation:F:/Tutorial/learn-tensorflow-object-detection/Tensorflow/workspace/images/collectedimages/botol_plastik\\botol_plastik_3.xml\n",
      "Image:F:\\Tutorial\\learn-tensorflow-object-detection\\Tensorflow\\workspace\\images\\collectedimages\\botol_plastik\\botol_plastik_4.jpg -> Annotation:F:/Tutorial/learn-tensorflow-object-detection/Tensorflow/workspace/images/collectedimages/botol_plastik\\botol_plastik_4.xml\n",
      "Image:F:\\Tutorial\\learn-tensorflow-object-detection\\Tensorflow\\workspace\\images\\collectedimages\\botol_plastik\\botol_plastik_5.jpg -> Annotation:F:/Tutorial/learn-tensorflow-object-detection/Tensorflow/workspace/images/collectedimages/botol_plastik\\botol_plastik_5.xml\n",
      "Image:F:\\Tutorial\\learn-tensorflow-object-detection\\Tensorflow\\workspace\\images\\collectedimages\\botol_plastik\\botol_plastik_6.jpg -> Annotation:F:/Tutorial/learn-tensorflow-object-detection/Tensorflow/workspace/images/collectedimages/botol_plastik\\botol_plastik_6.xml\n",
      "Image:F:\\Tutorial\\learn-tensorflow-object-detection\\Tensorflow\\workspace\\images\\collectedimages\\botol_plastik\\botol_plastik_7.jpg -> Annotation:F:/Tutorial/learn-tensorflow-object-detection/Tensorflow/workspace/images/collectedimages/botol_plastik\\botol_plastik_7.xml\n",
      "Image:F:\\Tutorial\\learn-tensorflow-object-detection\\Tensorflow\\workspace\\images\\collectedimages\\botol_plastik\\botol_plastik_8.jpg -> Annotation:F:/Tutorial/learn-tensorflow-object-detection/Tensorflow/workspace/images/collectedimages/botol_plastik\\botol_plastik_8.xml\n",
      "Image:F:\\Tutorial\\learn-tensorflow-object-detection\\Tensorflow\\workspace\\images\\collectedimages\\botol_plastik\\botol_plastik_9.jpg -> Annotation:F:/Tutorial/learn-tensorflow-object-detection/Tensorflow/workspace/images/collectedimages/botol_plastik\\botol_plastik_9.xml\n",
      "Image:F:\\Tutorial\\learn-tensorflow-object-detection\\Tensorflow\\workspace\\images\\collectedimages\\botol_plastik\\botol_plastik_10.jpg -> Annotation:F:/Tutorial/learn-tensorflow-object-detection/Tensorflow/workspace/images/collectedimages/botol_plastik\\botol_plastik_10.xml\n",
      "Image:F:\\Tutorial\\learn-tensorflow-object-detection\\Tensorflow\\workspace\\images\\collectedimages\\botol_plastik\\botol_plastik_11.jpg -> Annotation:F:/Tutorial/learn-tensorflow-object-detection/Tensorflow/workspace/images/collectedimages/botol_plastik\\botol_plastik_11.xml\n",
      "Image:F:\\Tutorial\\learn-tensorflow-object-detection\\Tensorflow\\workspace\\images\\collectedimages\\botol_plastik\\botol_plastik_12.jpg -> Annotation:F:/Tutorial/learn-tensorflow-object-detection/Tensorflow/workspace/images/collectedimages/botol_plastik\\botol_plastik_12.xml\n",
      "Image:F:\\Tutorial\\learn-tensorflow-object-detection\\Tensorflow\\workspace\\images\\collectedimages\\botol_plastik\\botol_plastik_13.jpg -> Annotation:F:/Tutorial/learn-tensorflow-object-detection/Tensorflow/workspace/images/collectedimages/botol_plastik\\botol_plastik_13.xml\n",
      "Image:F:\\Tutorial\\learn-tensorflow-object-detection\\Tensorflow\\workspace\\images\\collectedimages\\botol_plastik\\botol_plastik_14.jpg -> Annotation:F:/Tutorial/learn-tensorflow-object-detection/Tensorflow/workspace/images/collectedimages/botol_plastik\\botol_plastik_14.xml\n"
     ]
    }
   ],
   "source": [
    "!cd {LABELIMG_PATH} && python labelImg.py"
   ]
  },
  {
   "cell_type": "markdown",
   "metadata": {},
   "source": [
    "# 6. Move them into a Training and Testing Partition"
   ]
  },
  {
   "cell_type": "markdown",
   "metadata": {},
   "source": [
    "# OPTIONAL - 7. Compress them for Colab Training"
   ]
  },
  {
   "cell_type": "code",
   "execution_count": 20,
   "metadata": {},
   "outputs": [],
   "source": [
    "TRAIN_PATH = os.path.join(\"Tensorflow\", \"workspace\", \"images\", \"train\")\n",
    "TEST_PATH = os.path.join(\"Tensorflow\", \"workspace\", \"images\", \"test\")\n",
    "ARCHIVE_PATH = os.path.join(\"Tensorflow\", \"workspace\", \"images\", \"archive.tar.gz\")"
   ]
  },
  {
   "cell_type": "code",
   "execution_count": 21,
   "metadata": {},
   "outputs": [],
   "source": [
    "!tar -czf {ARCHIVE_PATH} {TRAIN_PATH} {TEST_PATH}"
   ]
  }
 ],
 "metadata": {
  "kernelspec": {
   "display_name": ".venv",
   "language": "python",
   "name": "python3"
  },
  "language_info": {
   "codemirror_mode": {
    "name": "ipython",
    "version": 3
   },
   "file_extension": ".py",
   "mimetype": "text/x-python",
   "name": "python",
   "nbconvert_exporter": "python",
   "pygments_lexer": "ipython3",
   "version": "3.10.11"
  }
 },
 "nbformat": 4,
 "nbformat_minor": 2
}
